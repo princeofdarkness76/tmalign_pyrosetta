{
 "cells": [
  {
   "cell_type": "code",
   "execution_count": 1,
   "metadata": {
    "collapsed": true
   },
   "outputs": [],
   "source": [
    "from rosetta import *\n",
    "rosetta.init()"
   ]
  },
  {
   "cell_type": "code",
   "execution_count": 2,
   "metadata": {
    "collapsed": true
   },
   "outputs": [],
   "source": [
    "pose1 = pose_from_pdb('/home/steve/Desktop/projects/active_site_rms_pyrosetta/pose1.pdb')\n",
    "pose2 = pose_from_pdb('/home/steve/Desktop/projects/active_site_rms_pyrosetta/pose2.pdb')"
   ]
  },
  {
   "cell_type": "code",
   "execution_count": 3,
   "metadata": {
    "collapsed": false
   },
   "outputs": [
    {
     "name": "stdout",
     "output_type": "stream",
     "text": [
      "      58.50600000000000       42.69900000000000       28.08300000000000\n",
      "      61.92500000000000       38.90400000000000       24.13600000000000\n"
     ]
    }
   ],
   "source": [
    "print pose1.residue(1).xyz('CA')\n",
    "print pose2.residue(1).xyz('CA')"
   ]
  },
  {
   "cell_type": "markdown",
   "metadata": {},
   "source": [
    "Trying to use the TMalign algorithm to do my superposition of fragments/proteins\n"
   ]
  },
  {
   "cell_type": "code",
   "execution_count": 4,
   "metadata": {
    "collapsed": false
   },
   "outputs": [
    {
     "data": {
      "text/plain": [
       "0"
      ]
     },
     "execution_count": 4,
     "metadata": {},
     "output_type": "execute_result"
    }
   ],
   "source": [
    "tm = rosetta.protocols.hybridization.TMalign()\n",
    "tm.apply(pose1, pose2)"
   ]
  },
  {
   "cell_type": "code",
   "execution_count": 22,
   "metadata": {
    "collapsed": false
   },
   "outputs": [
    {
     "name": "stdout",
     "output_type": "stream",
     "text": [
      "213\n",
      "0.957125933343\n"
     ]
    }
   ],
   "source": [
    "longest = max(pose1.n_residue()+1, pose2.n_residue()+1)\n",
    "print longest              # need to normalize by one of the lengths of the proteins\n",
    "shortest = min(pose1.n_residue()+1, pose2.n_residue()+1)\n",
    "print tm.TMscore(longest)  # yields tmscore of .957 ( or very similar in structure)"
   ]
  },
  {
   "cell_type": "code",
   "execution_count": 14,
   "metadata": {
    "collapsed": false
   },
   "outputs": [
    {
     "name": "stdout",
     "output_type": "stream",
     "text": [
      "      58.50600000000000       42.69900000000000       28.08300000000000\n",
      "      61.92500000000000       38.90400000000000       24.13600000000000\n"
     ]
    }
   ],
   "source": [
    "# but the tmalign object doesn't actually move the pose....\n",
    "print pose1.residue(1).xyz('CA')\n",
    "print pose2.residue(1).xyz('CA')"
   ]
  },
  {
   "cell_type": "markdown",
   "metadata": {},
   "source": [
    "From /src/protocols/hybridization/HybridizeProtocol.cc, lines 1439 to 1466\n",
    "demonstrates how to run tmalign and then do the partial threading to actually move the pose\n",
    "\n",
    "```c++\n",
    "// get tmalign sequence mapping\n",
    "\t\tTMalign tm_align;\n",
    "\t\tstd::string seq_pose, seq_ref, aligned;\n",
    "\t\tint reval = tm_align.apply(pose, ref_pose, residue_list, ref_residue_list);\n",
    "\t\tif ( reval != 0 ) continue;  // TO DO: remove this domain\n",
    "\n",
    "\t\ttm_align.alignment2AtomMap(pose, ref_pose, residue_list, ref_residue_list, n_mapped_residues, atom_map);\n",
    "\t\ttm_align.alignment2strings(seq_pose, seq_ref, aligned);\n",
    "\n",
    "\t\tusing namespace ObjexxFCL::format;\n",
    "\t\tSize norm_length = residue_list.size() < ref_residue_list.size() ? residue_list.size():ref_residue_list.size();\n",
    "\t\tTR << \"Align domain with TMscore of \" << F(8,3,tm_align.TMscore(norm_length)) << std::endl;\n",
    "\t\tTR << seq_pose << std::endl;\n",
    "\t\tTR << aligned << std::endl;\n",
    "\t\tTR << seq_ref << std::endl;\n",
    "\n",
    "\t\tif ( n_mapped_residues < 6 ) continue;  // TO DO: remove this domain\n",
    "\n",
    "\t\t// add in ligand residues\n",
    "\t\tfor ( core::Size i=last_protein_residue+1; i<=pose.total_residue(); ++i ) {\n",
    "\t\t\tcore::Size res_controlling_i = ligres_map[i];\n",
    "\t\t\tfor ( core::Size iloop=1; iloop<=domains[i_domain].num_loop(); ++iloop ) {\n",
    "\t\t\t\tif ( res_controlling_i < domains[i_domain][iloop].start() || res_controlling_i > domains[i_domain][iloop].stop() ) continue;\n",
    "\t\t\t\tresidue_list.push_back(i);\n",
    "\t\t\t}\n",
    "\t\t}\n",
    "\n",
    "\t\tpartial_align(pose, ref_pose, atom_map, residue_list, true, aln_cutoffs, min_coverage);\n",
    "        ```"
   ]
  },
  {
   "cell_type": "markdown",
   "metadata": {},
   "source": [
    "So I need to make run this method first:\n",
    "\n",
    "tm.alignment2AtomMap(pose, ref_pose, residue_list, ref_residue_list, n_mapped_residues, atom_map);\n",
    "\n",
    "which results below\n",
    "\n",
    "1413    core::id::AtomID_Map< core::id::AtomID > atom_map;\n",
    "\n",
    "1414    core::pose::initialize_atomid_map( atom_map, pose, core::id::BOGUS_ATOM_ID )"
   ]
  },
  {
   "cell_type": "code",
   "execution_count": 16,
   "metadata": {
    "collapsed": true
   },
   "outputs": [],
   "source": [
    "atommap = rosetta.core.id.AtomID_Map_T_core_id_AtomID_T?"
   ]
  },
  {
   "cell_type": "code",
   "execution_count": 31,
   "metadata": {
    "collapsed": false,
    "scrolled": true
   },
   "outputs": [],
   "source": [
    "#atommap = rosetta.core.id.AtomID_Map_T_core_id_AtomID_T( rosetta.core.id.AtomID() )\n",
    "atommap = rosetta.core.id.AtomID_Map_AtomID()"
   ]
  },
  {
   "cell_type": "code",
   "execution_count": 20,
   "metadata": {
    "collapsed": true
   },
   "outputs": [],
   "source": [
    "#rosetta.core.pose.initialize_atomid_map_AtomID?\n",
    "rosetta.core.pose.initialize_atomid_map( atommap, pose1 )"
   ]
  },
  {
   "cell_type": "code",
   "execution_count": 25,
   "metadata": {
    "collapsed": true
   },
   "outputs": [],
   "source": [
    "## create lists of ints for the residues to overlay\n",
    "\n",
    "pose1list = [ x for x in xrange(1,shortest)]\n",
    "pose2list = [ x for x in xrange(1,shortest)]\n",
    "n_mapped_res = 0"
   ]
  },
  {
   "cell_type": "code",
   "execution_count": 32,
   "metadata": {
    "collapsed": false
   },
   "outputs": [
    {
     "ename": "ArgumentError",
     "evalue": "Python argument types in\n    TMalign.alignment2AtomMap(TMalign, Pose, Pose, list, list, int, AtomID_Map_AtomID)\ndid not match C++ signature:\n    alignment2AtomMap(protocols::hybridization::TMalign {lvalue}, core::pose::Pose pose, core::pose::Pose ref_pose, std::list<unsigned long, std::allocator<unsigned long> > residue_list, std::list<unsigned long, std::allocator<unsigned long> > ref_residue_list, unsigned long {lvalue} n_mapped_residues, core::id::AtomID_Map<core::id::AtomID> {lvalue} atom_map)\n    alignment2AtomMap(protocols::hybridization::TMalign {lvalue}, core::pose::Pose pose1, core::pose::Pose pose2, unsigned long {lvalue} n_mapped_residues, core::id::AtomID_Map<core::id::AtomID> {lvalue} atom_map)",
     "output_type": "error",
     "traceback": [
      "\u001b[1;31m---------------------------------------------------------------------------\u001b[0m",
      "\u001b[1;31mArgumentError\u001b[0m                             Traceback (most recent call last)",
      "\u001b[1;32m<ipython-input-32-69b0449242ed>\u001b[0m in \u001b[0;36m<module>\u001b[1;34m()\u001b[0m\n\u001b[1;32m----> 1\u001b[1;33m \u001b[0mtm\u001b[0m\u001b[1;33m.\u001b[0m\u001b[0malignment2AtomMap\u001b[0m\u001b[1;33m(\u001b[0m\u001b[0mpose1\u001b[0m\u001b[1;33m,\u001b[0m\u001b[0mpose2\u001b[0m\u001b[1;33m,\u001b[0m \u001b[0mpose1list\u001b[0m\u001b[1;33m,\u001b[0m \u001b[0mpose2list\u001b[0m\u001b[1;33m,\u001b[0m \u001b[0mn_mapped_res\u001b[0m\u001b[1;33m,\u001b[0m \u001b[0matommap\u001b[0m \u001b[1;33m)\u001b[0m\u001b[1;33m\u001b[0m\u001b[0m\n\u001b[0m",
      "\u001b[1;31mArgumentError\u001b[0m: Python argument types in\n    TMalign.alignment2AtomMap(TMalign, Pose, Pose, list, list, int, AtomID_Map_AtomID)\ndid not match C++ signature:\n    alignment2AtomMap(protocols::hybridization::TMalign {lvalue}, core::pose::Pose pose, core::pose::Pose ref_pose, std::list<unsigned long, std::allocator<unsigned long> > residue_list, std::list<unsigned long, std::allocator<unsigned long> > ref_residue_list, unsigned long {lvalue} n_mapped_residues, core::id::AtomID_Map<core::id::AtomID> {lvalue} atom_map)\n    alignment2AtomMap(protocols::hybridization::TMalign {lvalue}, core::pose::Pose pose1, core::pose::Pose pose2, unsigned long {lvalue} n_mapped_residues, core::id::AtomID_Map<core::id::AtomID> {lvalue} atom_map)"
     ]
    }
   ],
   "source": [
    "tm.alignment2AtomMap(pose1,pose2, pose1list, pose2list, n_mapped_res, atommap )"
   ]
  },
  {
   "cell_type": "code",
   "execution_count": null,
   "metadata": {
    "collapsed": true
   },
   "outputs": [],
   "source": []
  }
 ],
 "metadata": {
  "kernelspec": {
   "display_name": "Python 2",
   "language": "python",
   "name": "python2"
  },
  "language_info": {
   "codemirror_mode": {
    "name": "ipython",
    "version": 2
   },
   "file_extension": ".py",
   "mimetype": "text/x-python",
   "name": "python",
   "nbconvert_exporter": "python",
   "pygments_lexer": "ipython2",
   "version": "2.7.10"
  }
 },
 "nbformat": 4,
 "nbformat_minor": 0
}
